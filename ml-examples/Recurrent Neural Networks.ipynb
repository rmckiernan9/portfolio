{
 "cells": [
  {
   "cell_type": "code",
   "execution_count": 1,
   "id": "2de45ed4-e49d-4437-a039-4ab9776c09ce",
   "metadata": {},
   "outputs": [],
   "source": [
    "# Import packages\n",
    "import numpy as np\n",
    "import pandas as pd\n",
    "import tensorflow as tf\n",
    "from tensorflow import keras\n",
    "from sklearn.model_selection import train_test_split\n",
    "from tensorflow.keras.layers import TextVectorization"
   ]
  },
  {
   "cell_type": "code",
   "execution_count": 107,
   "id": "5c6a95f5-03ed-4770-a8ff-a84891908289",
   "metadata": {},
   "outputs": [],
   "source": [
    "#Breaking down a sentiment classification dataset from UCI\n",
    "import glob\n",
    "text = []\n",
    "label = []\n",
    "\n",
    "for filename in glob.glob(\"Sentiment/*.txt\"):  # Gathers all .txt files in the directory\n",
    "    with open(filename, 'r', encoding='utf-8') as file:\n",
    "        for line in file:\n",
    "            #print(f\"Raw line: {line}\")\n",
    "            line = line.rstrip('\\n').split('\\t')  # Split each line on tabs\n",
    "            if len(line) > 1 and line[1].isdigit():  # Check if the second part is a digit\n",
    "                text.append(line[0])  # Append the text part\n",
    "                label.append(int(line[1]))\n",
    "            else:\n",
    "                print(f\"Skipping invalid line: {line}\")\n",
    "\n",
    "#print(\"Text:\", text)\n",
    "#print(\"Label:\", label)\n",
    "#text = text.astype(str)\n",
    "# Convert lists to numpy arrays\n",
    "text = np.array(text)\n",
    "label = np.array(label)"
   ]
  },
  {
   "cell_type": "code",
   "execution_count": null,
   "id": "af4639cc-ab5f-425d-9608-05bb1967bb7c",
   "metadata": {},
   "outputs": [],
   "source": []
  },
  {
   "cell_type": "code",
   "execution_count": 110,
   "id": "ec0d4563-d580-4bbb-9e60-2ea2aa5fe903",
   "metadata": {},
   "outputs": [],
   "source": [
    "#Use text vectorization to complete some preprocessing tasks, including tokenizations (word splits) and remove punctuation/lowercase words\n",
    "vectorize_layer = TextVectorization(\n",
    "    max_tokens = None,\n",
    "    standardize = 'lower_and_strip_punctuation',\n",
    "    split = 'whitespace',\n",
    "    ngrams = None,\n",
    "    output_mode = 'int',\n",
    "    output_sequence_length = None\n",
    ")"
   ]
  },
  {
   "cell_type": "code",
   "execution_count": 112,
   "id": "75890106-3919-4106-8453-47ba0171439b",
   "metadata": {},
   "outputs": [],
   "source": [
    "# apply it to the text data with \"adapt\"\n",
    "vectorize_layer.adapt(text)"
   ]
  },
  {
   "cell_type": "code",
   "execution_count": 114,
   "id": "1e446834-53d7-46ee-ae8e-234f67290bdc",
   "metadata": {},
   "outputs": [
    {
     "data": {
      "text/plain": [
       "['',\n",
       " '[UNK]',\n",
       " 'the',\n",
       " 'and',\n",
       " 'i',\n",
       " 'a',\n",
       " 'is',\n",
       " 'to',\n",
       " 'it',\n",
       " 'this',\n",
       " 'of',\n",
       " 'was',\n",
       " 'in',\n",
       " 'for',\n",
       " 'not',\n",
       " 'that',\n",
       " 'with',\n",
       " 'my',\n",
       " 'very',\n",
       " 'good',\n",
       " 'on',\n",
       " 'great',\n",
       " 'you',\n",
       " 'but',\n",
       " 'have',\n",
       " 'are',\n",
       " 'movie',\n",
       " 'as',\n",
       " 'so',\n",
       " 'phone',\n",
       " 'film',\n",
       " 'its',\n",
       " 'be',\n",
       " 'all',\n",
       " 'one',\n",
       " 'had',\n",
       " 'at',\n",
       " 'food',\n",
       " 'like',\n",
       " 'just',\n",
       " 'place',\n",
       " 'time',\n",
       " 'were',\n",
       " 'service',\n",
       " 'an',\n",
       " 'really',\n",
       " 'if',\n",
       " 'from',\n",
       " 'there',\n",
       " 'they',\n",
       " 'bad',\n",
       " 'we',\n",
       " 'well',\n",
       " 'out',\n",
       " 'has',\n",
       " 'dont',\n",
       " 'about',\n",
       " 'would',\n",
       " 'your',\n",
       " 'or',\n",
       " 'no',\n",
       " 'only',\n",
       " 'by',\n",
       " 'best',\n",
       " 'ever',\n",
       " 'even',\n",
       " 'here',\n",
       " 'also',\n",
       " 'will',\n",
       " 'back',\n",
       " 'up',\n",
       " 'when',\n",
       " 'me',\n",
       " 'than',\n",
       " 'more',\n",
       " 'quality',\n",
       " 'go',\n",
       " 'what',\n",
       " 'love',\n",
       " 'ive',\n",
       " 'which',\n",
       " 'made',\n",
       " 'he',\n",
       " 'can',\n",
       " 'because',\n",
       " 'product',\n",
       " 'im',\n",
       " 'how',\n",
       " 'too',\n",
       " 'get',\n",
       " 'work',\n",
       " 'their',\n",
       " 'some',\n",
       " 'works',\n",
       " 'nice',\n",
       " 'could',\n",
       " 'better',\n",
       " 'any',\n",
       " 'excellent',\n",
       " 'after',\n",
       " 'never',\n",
       " 'do',\n",
       " 'recommend',\n",
       " 'much',\n",
       " 'been',\n",
       " 'who',\n",
       " 'use',\n",
       " 'our',\n",
       " 'did',\n",
       " 'again',\n",
       " 'sound',\n",
       " 'other',\n",
       " 'think',\n",
       " 'his',\n",
       " 'headset',\n",
       " 'first',\n",
       " 'battery',\n",
       " 'way',\n",
       " 'them',\n",
       " 'see',\n",
       " 'make',\n",
       " 'didnt',\n",
       " 'pretty',\n",
       " 'acting',\n",
       " 'most',\n",
       " 'worst',\n",
       " 'still',\n",
       " 'now',\n",
       " 'got',\n",
       " 'does',\n",
       " 'say',\n",
       " 'over',\n",
       " 'enough',\n",
       " 'characters',\n",
       " 'two',\n",
       " 'little',\n",
       " 'everything',\n",
       " 'every',\n",
       " 'ear',\n",
       " 'disappointed',\n",
       " 'am',\n",
       " 'thing',\n",
       " 'then',\n",
       " 'price',\n",
       " 'being',\n",
       " 'waste',\n",
       " 'these',\n",
       " 'right',\n",
       " 'people',\n",
       " 'going',\n",
       " '2',\n",
       " 'terrible',\n",
       " 'real',\n",
       " 'off',\n",
       " 'minutes',\n",
       " 'definitely',\n",
       " 'case',\n",
       " 'amazing',\n",
       " 'movies',\n",
       " 'money',\n",
       " 'look',\n",
       " 'new',\n",
       " 'know',\n",
       " 'experience',\n",
       " 'cant',\n",
       " 'came',\n",
       " 'both',\n",
       " 'into',\n",
       " 'wont',\n",
       " 'story',\n",
       " 'many',\n",
       " 'her',\n",
       " 'friendly',\n",
       " 'few',\n",
       " 'doesnt',\n",
       " 'worth',\n",
       " 'used',\n",
       " 'poor',\n",
       " 'plot',\n",
       " 'piece',\n",
       " 'films',\n",
       " 'far',\n",
       " 'us',\n",
       " 'seen',\n",
       " 'years',\n",
       " 'wonderful',\n",
       " 'while',\n",
       " 'want',\n",
       " 'restaurant',\n",
       " 'quite',\n",
       " 'nothing',\n",
       " 'lot',\n",
       " 'long',\n",
       " '10',\n",
       " 'she',\n",
       " 'script',\n",
       " 'life',\n",
       " 'happy',\n",
       " 'always',\n",
       " 'wasnt',\n",
       " 'highly',\n",
       " 'give',\n",
       " 'found',\n",
       " 'delicious',\n",
       " 'anyone',\n",
       " 'watching',\n",
       " 'times',\n",
       " 'character',\n",
       " 'worked',\n",
       " 'vegas',\n",
       " 'take',\n",
       " 'should',\n",
       " 'probably',\n",
       " 'loved',\n",
       " 'fine',\n",
       " 'easy',\n",
       " 'car',\n",
       " 'bought',\n",
       " 'awful',\n",
       " 'around',\n",
       " 'another',\n",
       " 'absolutely',\n",
       " 'went',\n",
       " 'since',\n",
       " 'screen',\n",
       " 'same',\n",
       " 'item',\n",
       " 'however',\n",
       " 'horrible',\n",
       " 'funny',\n",
       " 'comfortable',\n",
       " 'camera',\n",
       " 'buy',\n",
       " 'before',\n",
       " 'awesome',\n",
       " 'where',\n",
       " 'watch',\n",
       " 'totally',\n",
       " 'thought',\n",
       " 'those',\n",
       " 'things',\n",
       " 'stars',\n",
       " 'staff',\n",
       " 'scenes',\n",
       " 'makes',\n",
       " 'impressed',\n",
       " 'find',\n",
       " 'eat',\n",
       " 'down',\n",
       " 'couldnt',\n",
       " 'cool',\n",
       " 'charger',\n",
       " 'big',\n",
       " 'though',\n",
       " 'talk',\n",
       " 'such',\n",
       " 'small',\n",
       " 'slow',\n",
       " 'show',\n",
       " 'part',\n",
       " 'night',\n",
       " 'music',\n",
       " 'last',\n",
       " 'job',\n",
       " 'fantastic',\n",
       " 'end',\n",
       " 'come',\n",
       " 'cast',\n",
       " 'actors',\n",
       " 'stupid',\n",
       " 'said',\n",
       " 'perfect',\n",
       " 'ordered',\n",
       " 'old',\n",
       " 'must',\n",
       " 'kind',\n",
       " 'family',\n",
       " 'day',\n",
       " 'cheap',\n",
       " 'bluetooth',\n",
       " 'black',\n",
       " 'beautiful',\n",
       " 'thats',\n",
       " 'sure',\n",
       " 'performance',\n",
       " 'overall',\n",
       " 'next',\n",
       " 'fresh',\n",
       " 'feel',\n",
       " 'chicken',\n",
       " 'avoid',\n",
       " 'actually',\n",
       " '5',\n",
       " 'try',\n",
       " 'tried',\n",
       " 'sucks',\n",
       " 'simply',\n",
       " 'scene',\n",
       " 'salad',\n",
       " 'reception',\n",
       " 'problems',\n",
       " 'problem',\n",
       " 'pizza',\n",
       " 'order',\n",
       " 'menu',\n",
       " 'line',\n",
       " 'least',\n",
       " 'interesting',\n",
       " 'id',\n",
       " 'hard',\n",
       " 'felt',\n",
       " 'especially',\n",
       " 'done',\n",
       " 'bit',\n",
       " 'between',\n",
       " 'writing',\n",
       " 'worse',\n",
       " 'without',\n",
       " 'wait',\n",
       " 'taste',\n",
       " 'steak',\n",
       " 'special',\n",
       " 'purchase',\n",
       " 'man',\n",
       " 'low',\n",
       " 'looks',\n",
       " 'liked',\n",
       " 'ill',\n",
       " 'hear',\n",
       " 'gets',\n",
       " 'fit',\n",
       " 'fast',\n",
       " 'expect',\n",
       " 'everyone',\n",
       " 'enjoyed',\n",
       " 'either',\n",
       " 'each',\n",
       " 'customer',\n",
       " 'completely',\n",
       " 'coming',\n",
       " 'charge',\n",
       " 'cell',\n",
       " 'calls',\n",
       " 'away',\n",
       " 'anything',\n",
       " 'almost',\n",
       " '1',\n",
       " 'year',\n",
       " 'working',\n",
       " 'whole',\n",
       " 'white',\n",
       " 'using',\n",
       " 'through',\n",
       " 'sushi',\n",
       " 'short',\n",
       " 'server',\n",
       " 'seriously',\n",
       " 'rather',\n",
       " 'left',\n",
       " 'hour',\n",
       " 'flavor',\n",
       " 'different',\n",
       " 'dialogue',\n",
       " 'device',\n",
       " 'clear',\n",
       " 'call',\n",
       " 'bland',\n",
       " 'watched',\n",
       " 'volume',\n",
       " 'unfortunately',\n",
       " 'understand',\n",
       " 'took',\n",
       " 'tell',\n",
       " 'super',\n",
       " 'started',\n",
       " 'side',\n",
       " 'several',\n",
       " 'saw',\n",
       " 'return',\n",
       " 'put',\n",
       " 'plug',\n",
       " 'play',\n",
       " 'perfectly',\n",
       " 'may',\n",
       " 'looking',\n",
       " 'incredible',\n",
       " 'having',\n",
       " 'getting',\n",
       " 'full',\n",
       " 'feeling',\n",
       " 'fact',\n",
       " 'extremely',\n",
       " 'enjoy',\n",
       " 'disappointing',\n",
       " 'design',\n",
       " 'deal',\n",
       " 'burger',\n",
       " 'buffet',\n",
       " 'believe',\n",
       " 'art',\n",
       " 'yet',\n",
       " 'truly',\n",
       " 'three',\n",
       " 'theres',\n",
       " 'tasty',\n",
       " 'sucked',\n",
       " 'stay',\n",
       " 'soon',\n",
       " 'received',\n",
       " 'phones',\n",
       " 'once',\n",
       " 'need',\n",
       " 'motorola',\n",
       " 'mess',\n",
       " 'mediocre',\n",
       " 'meal',\n",
       " 'light',\n",
       " 'less',\n",
       " 'kids',\n",
       " 'huge',\n",
       " 'hours',\n",
       " 'hot',\n",
       " 'fits',\n",
       " 'ending',\n",
       " 'during',\n",
       " 'disappointment',\n",
       " 'crap',\n",
       " 'certainly',\n",
       " 'care',\n",
       " 'barely',\n",
       " 'atmosphere',\n",
       " '3',\n",
       " 'wrong',\n",
       " 'why',\n",
       " 'wasted',\n",
       " 'waited',\n",
       " 'together',\n",
       " 'strong',\n",
       " 'selection',\n",
       " 'sauce',\n",
       " 'recommended',\n",
       " 'prices',\n",
       " 'predictable',\n",
       " 'pleased',\n",
       " 'played',\n",
       " 'picture',\n",
       " 'own',\n",
       " 'original',\n",
       " 'none',\n",
       " 'months',\n",
       " 'kept',\n",
       " 'inside',\n",
       " 'home',\n",
       " 'high',\n",
       " 'gave',\n",
       " 'fun',\n",
       " 'friends',\n",
       " 'effects',\n",
       " 'easily',\n",
       " 'director',\n",
       " 'days',\n",
       " 'cold',\n",
       " 'boring',\n",
       " 'area',\n",
       " 'actor',\n",
       " 'wouldnt',\n",
       " 'wear',\n",
       " 'wanted',\n",
       " 'waitress',\n",
       " 'voice',\n",
       " 'turn',\n",
       " 'trying',\n",
       " 'top',\n",
       " 'table',\n",
       " 'style',\n",
       " 'spot',\n",
       " 'something',\n",
       " 'series',\n",
       " 'seems',\n",
       " 'second',\n",
       " 'sandwich',\n",
       " 'places',\n",
       " 'myself',\n",
       " 'meat',\n",
       " 'lunch',\n",
       " 'lost',\n",
       " 'keep',\n",
       " 'junk',\n",
       " 'him',\n",
       " 'helpful',\n",
       " 'hands',\n",
       " 'half',\n",
       " 'guess',\n",
       " 'glad',\n",
       " 'game',\n",
       " 'fries',\n",
       " 'face',\n",
       " 'dropped',\n",
       " 'drama',\n",
       " 'dishes',\n",
       " 'directing',\n",
       " 'decent',\n",
       " 'couple',\n",
       " 'company',\n",
       " 'clean',\n",
       " 'cannot',\n",
       " 'broke',\n",
       " 'breakfast',\n",
       " 'bar',\n",
       " 'amazon',\n",
       " 'ago',\n",
       " 'weak',\n",
       " 'waiting',\n",
       " 'verizon',\n",
       " 'value',\n",
       " 'unit',\n",
       " 'under',\n",
       " 'twice',\n",
       " 'tv',\n",
       " 'told',\n",
       " 'today',\n",
       " 'tasted',\n",
       " 'star',\n",
       " 'spicy',\n",
       " 'someone',\n",
       " 'simple',\n",
       " 'set',\n",
       " 'rude',\n",
       " 'quickly',\n",
       " 'quick',\n",
       " 'point',\n",
       " 'plus',\n",
       " 'playing',\n",
       " 'pictures',\n",
       " 'perhaps',\n",
       " 'pay',\n",
       " 'overpriced',\n",
       " 'others',\n",
       " 'oh',\n",
       " 'obviously',\n",
       " 'let',\n",
       " 'jabra',\n",
       " 'itself',\n",
       " 'important',\n",
       " 'human',\n",
       " 'house',\n",
       " 'headsets',\n",
       " 'hate',\n",
       " 'given',\n",
       " 'garbage',\n",
       " 'finally',\n",
       " 'fails',\n",
       " 'expected',\n",
       " 'entire',\n",
       " 'else',\n",
       " 'eating',\n",
       " 'dish',\n",
       " 'dining',\n",
       " 'comes',\n",
       " 'cinematography',\n",
       " 'cinema',\n",
       " 'check',\n",
       " 'buttons',\n",
       " 'beer',\n",
       " 'average',\n",
       " 'audio',\n",
       " 'ask',\n",
       " 'arrived',\n",
       " 'amount',\n",
       " 'although',\n",
       " '20',\n",
       " 'written',\n",
       " 'world',\n",
       " 'word',\n",
       " 'within',\n",
       " 'whatever',\n",
       " 'week',\n",
       " 'wall',\n",
       " 'waiter',\n",
       " 'useless',\n",
       " 'town',\n",
       " 'tender',\n",
       " 'suspense',\n",
       " 'superb',\n",
       " 'subtle',\n",
       " 'store',\n",
       " 'solid',\n",
       " 'software',\n",
       " 'single',\n",
       " 'sick',\n",
       " 'served',\n",
       " 'room',\n",
       " 'review',\n",
       " 'reasonable',\n",
       " 'priced',\n",
       " 'possible',\n",
       " 'outside',\n",
       " 'nokia',\n",
       " 'needed',\n",
       " 'mostly',\n",
       " 'mind',\n",
       " 'might',\n",
       " 'mention',\n",
       " 'maybe',\n",
       " 'location',\n",
       " 'literally',\n",
       " 'lines',\n",
       " 'later',\n",
       " 'joy',\n",
       " 'john',\n",
       " 'isnt',\n",
       " 'horror',\n",
       " 'hope',\n",
       " 'heart',\n",
       " 'girl',\n",
       " 'front',\n",
       " 'free',\n",
       " 'feels',\n",
       " 'editing',\n",
       " 'drive',\n",
       " 'cover',\n",
       " 'course',\n",
       " 'cooked',\n",
       " 'comedy',\n",
       " 'color',\n",
       " 'classic',\n",
       " 'chips',\n",
       " 'charm',\n",
       " 'cable',\n",
       " 'bring',\n",
       " 'brilliant',\n",
       " 'beyond',\n",
       " 'authentic',\n",
       " 'attentive',\n",
       " 'ambiance',\n",
       " 'action',\n",
       " '30',\n",
       " '12',\n",
       " 'zero',\n",
       " 'youre',\n",
       " 'wow',\n",
       " 'wife',\n",
       " 'whether',\n",
       " 'whatsoever',\n",
       " 'warm',\n",
       " 'walked',\n",
       " 'until',\n",
       " 'unless',\n",
       " 'throughout',\n",
       " 'thin',\n",
       " 'theyre',\n",
       " 'terrific',\n",
       " 'sweet',\n",
       " 'songs',\n",
       " 'sometimes',\n",
       " 'signal',\n",
       " 'shrimp',\n",
       " 'setting',\n",
       " 'seemed',\n",
       " 'seem',\n",
       " 'seeing',\n",
       " 'sat',\n",
       " 'running',\n",
       " 'ridiculous',\n",
       " 'reviews',\n",
       " 'rest',\n",
       " 'rent',\n",
       " 'reason',\n",
       " 'rating',\n",
       " 'rare',\n",
       " 'range',\n",
       " 'potato',\n",
       " 'portrayal',\n",
       " 'poorly',\n",
       " 'player',\n",
       " 'plastic',\n",
       " 'pho',\n",
       " 'performances',\n",
       " 'particular',\n",
       " 'note',\n",
       " 'mistake',\n",
       " 'management',\n",
       " 'making',\n",
       " 'lovely',\n",
       " 'loud',\n",
       " 'lots',\n",
       " 'looked',\n",
       " 'longer',\n",
       " 'leave',\n",
       " 'large',\n",
       " 'lacks',\n",
       " 'lacking',\n",
       " 'joke',\n",
       " 'internet',\n",
       " 'instead',\n",
       " 'idea',\n",
       " 'holes',\n",
       " 'hold',\n",
       " 'hit',\n",
       " 'history',\n",
       " 'hilarious',\n",
       " 'headphones',\n",
       " 'happened',\n",
       " 'gives',\n",
       " 'flick',\n",
       " 'fish',\n",
       " 'features',\n",
       " 'feature',\n",
       " 'extra',\n",
       " 'exactly',\n",
       " 'elsewhere',\n",
       " 'ears',\n",
       " 'dinner',\n",
       " 'difficult',\n",
       " 'despite',\n",
       " 'dead',\n",
       " 'damn',\n",
       " 'costs',\n",
       " 'considering',\n",
       " 'clever',\n",
       " 'casting',\n",
       " 'cases',\n",
       " 'business',\n",
       " 'bother',\n",
       " 'book',\n",
       " 'believable',\n",
       " 'become',\n",
       " 'basically',\n",
       " 'bars',\n",
       " 'annoying',\n",
       " 'above',\n",
       " '\\x96',\n",
       " 'youll',\n",
       " 'youd',\n",
       " 'wish',\n",
       " 'weeks',\n",
       " 'water',\n",
       " 'utterly',\n",
       " 'usual',\n",
       " 'unbelievable',\n",
       " 'turned',\n",
       " 'trip',\n",
       " 'trash',\n",
       " 'total',\n",
       " 'tom',\n",
       " 'thumbs',\n",
       " 'themselves',\n",
       " 'thai',\n",
       " 'tasteless',\n",
       " 'tables',\n",
       " 'sturdy',\n",
       " 'stuff',\n",
       " 'soundtrack',\n",
       " 'silent',\n",
       " 'sides',\n",
       " 'shots',\n",
       " 'shot',\n",
       " 'shipping',\n",
       " 'servers',\n",
       " 'seated',\n",
       " 'seafood',\n",
       " 'satisfied',\n",
       " 'samsung',\n",
       " 'sad',\n",
       " 'roles',\n",
       " 'recently',\n",
       " 'recent',\n",
       " 'reasonably',\n",
       " 'reading',\n",
       " 'razr',\n",
       " 'rate',\n",
       " 'provided',\n",
       " 'portions',\n",
       " 'please',\n",
       " 'plain',\n",
       " 'period',\n",
       " 'pathetic',\n",
       " 'pasta',\n",
       " 'party',\n",
       " 'particularly',\n",
       " 'owners',\n",
       " 'owned',\n",
       " 'options',\n",
       " 'ok',\n",
       " 'often',\n",
       " 'offers',\n",
       " 'minute',\n",
       " 'memorable',\n",
       " 'mean',\n",
       " 'living',\n",
       " 'level',\n",
       " 'leather',\n",
       " 'lead',\n",
       " 'lame',\n",
       " 'lacked',\n",
       " 'involved',\n",
       " 'incredibly',\n",
       " 'impressive',\n",
       " 'imagination',\n",
       " 'ice',\n",
       " 'holds',\n",
       " 'hitchcock',\n",
       " 'havent',\n",
       " 'hand',\n",
       " 'graphics',\n",
       " 'goes',\n",
       " 'generally',\n",
       " 'games',\n",
       " 'fried',\n",
       " 'form',\n",
       " 'forever',\n",
       " 'favorite',\n",
       " 'fans',\n",
       " 'fan',\n",
       " 'fall',\n",
       " 'eyes',\n",
       " 'etc',\n",
       " 'ended',\n",
       " 'empty',\n",
       " 'embarrassing',\n",
       " 'eaten',\n",
       " 'dry',\n",
       " 'dirty',\n",
       " 'direction',\n",
       " 'dessert',\n",
       " 'deserves',\n",
       " 'data',\n",
       " 'cult',\n",
       " 'consider',\n",
       " 'connection',\n",
       " 'computer',\n",
       " 'close',\n",
       " 'clarity',\n",
       " 'choice',\n",
       " 'child',\n",
       " 'charging',\n",
       " 'buying',\n",
       " 'budget',\n",
       " 'break',\n",
       " 'bread',\n",
       " 'blue',\n",
       " 'belt',\n",
       " 'below',\n",
       " 'beef',\n",
       " 'beat',\n",
       " 'bargain',\n",
       " 'bacon',\n",
       " 'audience',\n",
       " 'asked',\n",
       " 'arent',\n",
       " 'anytime',\n",
       " 'along',\n",
       " 'ability',\n",
       " '8',\n",
       " '40',\n",
       " '4',\n",
       " 'yummy',\n",
       " 'yourself',\n",
       " 'young',\n",
       " 'yes',\n",
       " 'worthless',\n",
       " 'words',\n",
       " 'wonderfully',\n",
       " 'wings',\n",
       " 'wine',\n",
       " 'wind',\n",
       " 'weird',\n",
       " 'website',\n",
       " 'wasting',\n",
       " 'visual',\n",
       " 'visit',\n",
       " 'vibe',\n",
       " 'vegetables',\n",
       " 'unreliable',\n",
       " 'type',\n",
       " 'turns',\n",
       " 'true',\n",
       " 'trouble',\n",
       " 'treo',\n",
       " 'towards',\n",
       " 'touch',\n",
       " 'torture',\n",
       " 'tool',\n",
       " 'tmobile',\n",
       " 'thriller',\n",
       " 'thoroughly',\n",
       " 'third',\n",
       " 'thinking',\n",
       " 'theater',\n",
       " 'ten',\n",
       " 'tea',\n",
       " 'tale',\n",
       " 'takes',\n",
       " 'tacos',\n",
       " 'support',\n",
       " 'strip',\n",
       " 'storyline',\n",
       " 'stories',\n",
       " 'steaks',\n",
       " 'station',\n",
       " 'starts',\n",
       " 'space',\n",
       " 'soup',\n",
       " 'song',\n",
       " 'son',\n",
       " 'somewhat',\n",
       " 'shows',\n",
       " 'showed',\n",
       " 'share',\n",
       " 'sets',\n",
       " 'serious',\n",
       " 'sense',\n",
       " 'sending',\n",
       " 'seller',\n",
       " 'says',\n",
       " 'salmon',\n",
       " 'run',\n",
       " 'rolls',\n",
       " 'role',\n",
       " 'rocks',\n",
       " 'ringtones',\n",
       " 'rice',\n",
       " 'results',\n",
       " 'replace',\n",
       " 'remember',\n",
       " 'red',\n",
       " 'ready',\n",
       " 'ray',\n",
       " 'rated',\n",
       " 'purchased',\n",
       " 'pull',\n",
       " 'production',\n",
       " 'previous',\n",
       " 'pretentious',\n",
       " 'premise',\n",
       " 'power',\n",
       " 'pork',\n",
       " 'pleasant',\n",
       " 'plays',\n",
       " 'plantronics',\n",
       " 'phoenix',\n",
       " 'person',\n",
       " 'passed',\n",
       " 'parts',\n",
       " 'palm',\n",
       " 'pair',\n",
       " 'paid',\n",
       " 'ones',\n",
       " 'occasionally',\n",
       " 'number',\n",
       " 'network',\n",
       " 'needs',\n",
       " 'nearly',\n",
       " 'nasty',\n",
       " 'moving',\n",
       " 'mouth',\n",
       " 'missed',\n",
       " 'mic',\n",
       " 'mexican',\n",
       " 'massive',\n",
       " 'market',\n",
       " 'manager',\n",
       " 'main',\n",
       " 'loves',\n",
       " 'live',\n",
       " 'list',\n",
       " 'likes',\n",
       " 'lightweight',\n",
       " 'lg',\n",
       " 'lasts',\n",
       " 'killer',\n",
       " 'keyboard',\n",
       " 'italian',\n",
       " 'issues',\n",
       " 'intelligence',\n",
       " 'insult',\n",
       " 'instructions',\n",
       " 'indeed',\n",
       " 'included',\n",
       " 'immediately',\n",
       " 'husband',\n",
       " 'honestly',\n",
       " 'honest',\n",
       " 'hes',\n",
       " 'heard',\n",
       " 'hated',\n",
       " 'happier',\n",
       " 'hair',\n",
       " 'guy',\n",
       " 'greatest',\n",
       " 'gotten',\n",
       " 'gone',\n",
       " 'genuine',\n",
       " 'gem',\n",
       " 'fx',\n",
       " 'forget',\n",
       " 'follow',\n",
       " 'folks',\n",
       " 'flat',\n",
       " 'five',\n",
       " ...]"
      ]
     },
     "execution_count": 114,
     "metadata": {},
     "output_type": "execute_result"
    }
   ],
   "source": [
    "# check preprocessing results, such as vocabulary, \n",
    "vectorize_layer.get_vocabulary()"
   ]
  },
  {
   "cell_type": "code",
   "execution_count": 116,
   "id": "6f929991-3741-409f-90cb-cfb4953f904a",
   "metadata": {},
   "outputs": [],
   "source": [
    "#Recurrent Neural Network\n",
    "model_rnn = keras.Sequential()\n",
    "\n",
    "model_rnn.add(vectorize_layer)\n",
    "\n",
    "model_rnn.add(keras.layers.Embedding(\n",
    "    input_dim = len(vectorize_layer.get_vocabulary()),\n",
    "    output_dim = 64,\n",
    "    mask_zero = True\n",
    "))\n",
    "\n",
    "model_rnn.add(keras.layers.SimpleRNN(128)) \n",
    "\n",
    "model_rnn.add(keras.layers.Dense(1, activation = 'sigmoid'))"
   ]
  },
  {
   "cell_type": "code",
   "execution_count": 118,
   "id": "886dd74e-0b67-4817-8d42-6856fb1d4254",
   "metadata": {},
   "outputs": [],
   "source": [
    "#Train/compile\n",
    "model_rnn.compile(loss = keras.losses.BinaryCrossentropy(),\n",
    "                  optimizer='adam',\n",
    "                  metrics=['accuracy'])"
   ]
  },
  {
   "cell_type": "code",
   "execution_count": 124,
   "id": "09494ac1-c626-4f20-aeed-8eafbd1401ea",
   "metadata": {},
   "outputs": [],
   "source": [
    "text = tf.convert_to_tensor(text, dtype=tf.string)\n",
    "label = tf.convert_to_tensor(label, dtype=tf.int32)"
   ]
  },
  {
   "cell_type": "code",
   "execution_count": 126,
   "id": "671b0787-d46b-49db-a647-bf08611bd373",
   "metadata": {},
   "outputs": [
    {
     "name": "stdout",
     "output_type": "stream",
     "text": [
      "Epoch 1/10\n",
      "\u001b[1m75/75\u001b[0m \u001b[32m━━━━━━━━━━━━━━━━━━━━\u001b[0m\u001b[37m\u001b[0m \u001b[1m9s\u001b[0m 28ms/step - accuracy: 0.5492 - loss: 0.6881 - val_accuracy: 0.7267 - val_loss: 0.6005\n",
      "Epoch 2/10\n",
      "\u001b[1m75/75\u001b[0m \u001b[32m━━━━━━━━━━━━━━━━━━━━\u001b[0m\u001b[37m\u001b[0m \u001b[1m1s\u001b[0m 14ms/step - accuracy: 0.8569 - loss: 0.4680 - val_accuracy: 0.7300 - val_loss: 0.5670\n",
      "Epoch 3/10\n",
      "\u001b[1m75/75\u001b[0m \u001b[32m━━━━━━━━━━━━━━━━━━━━\u001b[0m\u001b[37m\u001b[0m \u001b[1m1s\u001b[0m 15ms/step - accuracy: 0.9579 - loss: 0.1784 - val_accuracy: 0.7833 - val_loss: 0.5334\n",
      "Epoch 4/10\n",
      "\u001b[1m75/75\u001b[0m \u001b[32m━━━━━━━━━━━━━━━━━━━━\u001b[0m\u001b[37m\u001b[0m \u001b[1m1s\u001b[0m 15ms/step - accuracy: 0.9822 - loss: 0.0654 - val_accuracy: 0.7733 - val_loss: 0.7440\n",
      "Epoch 5/10\n",
      "\u001b[1m75/75\u001b[0m \u001b[32m━━━━━━━━━━━━━━━━━━━━\u001b[0m\u001b[37m\u001b[0m \u001b[1m1s\u001b[0m 14ms/step - accuracy: 0.9890 - loss: 0.0453 - val_accuracy: 0.7483 - val_loss: 0.6478\n",
      "Epoch 6/10\n",
      "\u001b[1m75/75\u001b[0m \u001b[32m━━━━━━━━━━━━━━━━━━━━\u001b[0m\u001b[37m\u001b[0m \u001b[1m1s\u001b[0m 14ms/step - accuracy: 0.9986 - loss: 0.0149 - val_accuracy: 0.7767 - val_loss: 0.6977\n",
      "Epoch 7/10\n",
      "\u001b[1m75/75\u001b[0m \u001b[32m━━━━━━━━━━━━━━━━━━━━\u001b[0m\u001b[37m\u001b[0m \u001b[1m1s\u001b[0m 14ms/step - accuracy: 0.9997 - loss: 0.0077 - val_accuracy: 0.7600 - val_loss: 0.7808\n",
      "Epoch 8/10\n",
      "\u001b[1m75/75\u001b[0m \u001b[32m━━━━━━━━━━━━━━━━━━━━\u001b[0m\u001b[37m\u001b[0m \u001b[1m1s\u001b[0m 14ms/step - accuracy: 1.0000 - loss: 0.0051 - val_accuracy: 0.7733 - val_loss: 0.8484\n",
      "Epoch 9/10\n",
      "\u001b[1m75/75\u001b[0m \u001b[32m━━━━━━━━━━━━━━━━━━━━\u001b[0m\u001b[37m\u001b[0m \u001b[1m1s\u001b[0m 16ms/step - accuracy: 1.0000 - loss: 0.0030 - val_accuracy: 0.7733 - val_loss: 0.8819\n",
      "Epoch 10/10\n",
      "\u001b[1m75/75\u001b[0m \u001b[32m━━━━━━━━━━━━━━━━━━━━\u001b[0m\u001b[37m\u001b[0m \u001b[1m2s\u001b[0m 20ms/step - accuracy: 1.0000 - loss: 0.0026 - val_accuracy: 0.7717 - val_loss: 0.9460\n"
     ]
    },
    {
     "data": {
      "text/plain": [
       "<keras.src.callbacks.history.History at 0x28f0ec034d0>"
      ]
     },
     "execution_count": 126,
     "metadata": {},
     "output_type": "execute_result"
    }
   ],
   "source": [
    "#fit the model\n",
    "model_rnn.fit(x = text, y = label, validation_split = 0.2,\n",
    "              epochs=10, batch_size = 32)"
   ]
  },
  {
   "cell_type": "code",
   "execution_count": 128,
   "id": "1e64b669-f689-4b8e-a297-04b44dffebb2",
   "metadata": {},
   "outputs": [
    {
     "data": {
      "text/html": [
       "<pre style=\"white-space:pre;overflow-x:auto;line-height:normal;font-family:Menlo,'DejaVu Sans Mono',consolas,'Courier New',monospace\"><span style=\"font-weight: bold\">Model: \"sequential_5\"</span>\n",
       "</pre>\n"
      ],
      "text/plain": [
       "\u001b[1mModel: \"sequential_5\"\u001b[0m\n"
      ]
     },
     "metadata": {},
     "output_type": "display_data"
    },
    {
     "data": {
      "text/html": [
       "<pre style=\"white-space:pre;overflow-x:auto;line-height:normal;font-family:Menlo,'DejaVu Sans Mono',consolas,'Courier New',monospace\">┏━━━━━━━━━━━━━━━━━━━━━━━━━━━━━━━━━┳━━━━━━━━━━━━━━━━━━━━━━━━┳━━━━━━━━━━━━━━━┓\n",
       "┃<span style=\"font-weight: bold\"> Layer (type)                    </span>┃<span style=\"font-weight: bold\"> Output Shape           </span>┃<span style=\"font-weight: bold\">       Param # </span>┃\n",
       "┡━━━━━━━━━━━━━━━━━━━━━━━━━━━━━━━━━╇━━━━━━━━━━━━━━━━━━━━━━━━╇━━━━━━━━━━━━━━━┩\n",
       "│ text_vectorization_4            │ (<span style=\"color: #00af00; text-decoration-color: #00af00\">32</span>, <span style=\"color: #00d7ff; text-decoration-color: #00d7ff\">None</span>)             │             <span style=\"color: #00af00; text-decoration-color: #00af00\">0</span> │\n",
       "│ (<span style=\"color: #0087ff; text-decoration-color: #0087ff\">TextVectorization</span>)             │                        │               │\n",
       "├─────────────────────────────────┼────────────────────────┼───────────────┤\n",
       "│ embedding_5 (<span style=\"color: #0087ff; text-decoration-color: #0087ff\">Embedding</span>)         │ (<span style=\"color: #00af00; text-decoration-color: #00af00\">32</span>, <span style=\"color: #00d7ff; text-decoration-color: #00d7ff\">None</span>, <span style=\"color: #00af00; text-decoration-color: #00af00\">64</span>)         │       <span style=\"color: #00af00; text-decoration-color: #00af00\">345,856</span> │\n",
       "├─────────────────────────────────┼────────────────────────┼───────────────┤\n",
       "│ simple_rnn_5 (<span style=\"color: #0087ff; text-decoration-color: #0087ff\">SimpleRNN</span>)        │ (<span style=\"color: #00af00; text-decoration-color: #00af00\">32</span>, <span style=\"color: #00af00; text-decoration-color: #00af00\">128</span>)              │        <span style=\"color: #00af00; text-decoration-color: #00af00\">24,704</span> │\n",
       "├─────────────────────────────────┼────────────────────────┼───────────────┤\n",
       "│ dense_5 (<span style=\"color: #0087ff; text-decoration-color: #0087ff\">Dense</span>)                 │ (<span style=\"color: #00af00; text-decoration-color: #00af00\">32</span>, <span style=\"color: #00af00; text-decoration-color: #00af00\">1</span>)                │           <span style=\"color: #00af00; text-decoration-color: #00af00\">129</span> │\n",
       "└─────────────────────────────────┴────────────────────────┴───────────────┘\n",
       "</pre>\n"
      ],
      "text/plain": [
       "┏━━━━━━━━━━━━━━━━━━━━━━━━━━━━━━━━━┳━━━━━━━━━━━━━━━━━━━━━━━━┳━━━━━━━━━━━━━━━┓\n",
       "┃\u001b[1m \u001b[0m\u001b[1mLayer (type)                   \u001b[0m\u001b[1m \u001b[0m┃\u001b[1m \u001b[0m\u001b[1mOutput Shape          \u001b[0m\u001b[1m \u001b[0m┃\u001b[1m \u001b[0m\u001b[1m      Param #\u001b[0m\u001b[1m \u001b[0m┃\n",
       "┡━━━━━━━━━━━━━━━━━━━━━━━━━━━━━━━━━╇━━━━━━━━━━━━━━━━━━━━━━━━╇━━━━━━━━━━━━━━━┩\n",
       "│ text_vectorization_4            │ (\u001b[38;5;34m32\u001b[0m, \u001b[38;5;45mNone\u001b[0m)             │             \u001b[38;5;34m0\u001b[0m │\n",
       "│ (\u001b[38;5;33mTextVectorization\u001b[0m)             │                        │               │\n",
       "├─────────────────────────────────┼────────────────────────┼───────────────┤\n",
       "│ embedding_5 (\u001b[38;5;33mEmbedding\u001b[0m)         │ (\u001b[38;5;34m32\u001b[0m, \u001b[38;5;45mNone\u001b[0m, \u001b[38;5;34m64\u001b[0m)         │       \u001b[38;5;34m345,856\u001b[0m │\n",
       "├─────────────────────────────────┼────────────────────────┼───────────────┤\n",
       "│ simple_rnn_5 (\u001b[38;5;33mSimpleRNN\u001b[0m)        │ (\u001b[38;5;34m32\u001b[0m, \u001b[38;5;34m128\u001b[0m)              │        \u001b[38;5;34m24,704\u001b[0m │\n",
       "├─────────────────────────────────┼────────────────────────┼───────────────┤\n",
       "│ dense_5 (\u001b[38;5;33mDense\u001b[0m)                 │ (\u001b[38;5;34m32\u001b[0m, \u001b[38;5;34m1\u001b[0m)                │           \u001b[38;5;34m129\u001b[0m │\n",
       "└─────────────────────────────────┴────────────────────────┴───────────────┘\n"
      ]
     },
     "metadata": {},
     "output_type": "display_data"
    },
    {
     "data": {
      "text/html": [
       "<pre style=\"white-space:pre;overflow-x:auto;line-height:normal;font-family:Menlo,'DejaVu Sans Mono',consolas,'Courier New',monospace\"><span style=\"font-weight: bold\"> Total params: </span><span style=\"color: #00af00; text-decoration-color: #00af00\">1,112,069</span> (4.24 MB)\n",
       "</pre>\n"
      ],
      "text/plain": [
       "\u001b[1m Total params: \u001b[0m\u001b[38;5;34m1,112,069\u001b[0m (4.24 MB)\n"
      ]
     },
     "metadata": {},
     "output_type": "display_data"
    },
    {
     "data": {
      "text/html": [
       "<pre style=\"white-space:pre;overflow-x:auto;line-height:normal;font-family:Menlo,'DejaVu Sans Mono',consolas,'Courier New',monospace\"><span style=\"font-weight: bold\"> Trainable params: </span><span style=\"color: #00af00; text-decoration-color: #00af00\">370,689</span> (1.41 MB)\n",
       "</pre>\n"
      ],
      "text/plain": [
       "\u001b[1m Trainable params: \u001b[0m\u001b[38;5;34m370,689\u001b[0m (1.41 MB)\n"
      ]
     },
     "metadata": {},
     "output_type": "display_data"
    },
    {
     "data": {
      "text/html": [
       "<pre style=\"white-space:pre;overflow-x:auto;line-height:normal;font-family:Menlo,'DejaVu Sans Mono',consolas,'Courier New',monospace\"><span style=\"font-weight: bold\"> Non-trainable params: </span><span style=\"color: #00af00; text-decoration-color: #00af00\">0</span> (0.00 B)\n",
       "</pre>\n"
      ],
      "text/plain": [
       "\u001b[1m Non-trainable params: \u001b[0m\u001b[38;5;34m0\u001b[0m (0.00 B)\n"
      ]
     },
     "metadata": {},
     "output_type": "display_data"
    },
    {
     "data": {
      "text/html": [
       "<pre style=\"white-space:pre;overflow-x:auto;line-height:normal;font-family:Menlo,'DejaVu Sans Mono',consolas,'Courier New',monospace\"><span style=\"font-weight: bold\"> Optimizer params: </span><span style=\"color: #00af00; text-decoration-color: #00af00\">741,380</span> (2.83 MB)\n",
       "</pre>\n"
      ],
      "text/plain": [
       "\u001b[1m Optimizer params: \u001b[0m\u001b[38;5;34m741,380\u001b[0m (2.83 MB)\n"
      ]
     },
     "metadata": {},
     "output_type": "display_data"
    }
   ],
   "source": [
    "model_rnn.summary()"
   ]
  },
  {
   "cell_type": "code",
   "execution_count": 146,
   "id": "82816ce3-45cd-4368-a254-0f30e994a0c4",
   "metadata": {},
   "outputs": [
    {
     "name": "stdout",
     "output_type": "stream",
     "text": [
      "\u001b[1m1/1\u001b[0m \u001b[32m━━━━━━━━━━━━━━━━━━━━\u001b[0m\u001b[37m\u001b[0m \u001b[1m1s\u001b[0m 746ms/step\n"
     ]
    },
    {
     "data": {
      "text/plain": [
       "array([[0.04141991],\n",
       "       [0.9998292 ]], dtype=float32)"
      ]
     },
     "execution_count": 146,
     "metadata": {},
     "output_type": "execute_result"
    }
   ],
   "source": [
    "#prediction\n",
    "test_text = [['I hate this meal!'], ['I love this restaurant']]\n",
    "test_text_tensor = tf.convert_to_tensor(test_text, dtype=tf.string)\n",
    "model_rnn.predict(test_text_tensor)"
   ]
  },
  {
   "cell_type": "code",
   "execution_count": 148,
   "id": "a59f677c-91c5-4bd2-b473-4e776b3b1765",
   "metadata": {},
   "outputs": [],
   "source": [
    "#LTSM model\n",
    "model_lstm = keras.Sequential()\n",
    "\n",
    "model_lstm.add(vectorize_layer)\n",
    "\n",
    "model_lstm.add(keras.layers.Embedding(\n",
    "    input_dim = len(vectorize_layer.get_vocabulary()),\n",
    "    output_dim = 64,\n",
    "    mask_zero = True\n",
    "))\n",
    "\n",
    "model_lstm.add(keras.layers.LSTM(128))\n",
    "\n",
    "model_lstm.add(keras.layers.Dense(1, activation = 'sigmoid'))"
   ]
  },
  {
   "cell_type": "code",
   "execution_count": 150,
   "id": "848df8f5-76a8-4687-94c6-57e8d1390744",
   "metadata": {},
   "outputs": [],
   "source": [
    "model_lstm.compile(loss = keras.losses.BinaryCrossentropy(),\n",
    "                   optimizer='adam',\n",
    "                   metrics=['accuracy'])"
   ]
  },
  {
   "cell_type": "code",
   "execution_count": 152,
   "id": "f28effe8-7393-4c28-8429-b834f1462180",
   "metadata": {},
   "outputs": [
    {
     "name": "stdout",
     "output_type": "stream",
     "text": [
      "Epoch 1/10\n",
      "\u001b[1m75/75\u001b[0m \u001b[32m━━━━━━━━━━━━━━━━━━━━\u001b[0m\u001b[37m\u001b[0m \u001b[1m11s\u001b[0m 43ms/step - accuracy: 0.5883 - loss: 0.6767 - val_accuracy: 0.7733 - val_loss: 0.5145\n",
      "Epoch 2/10\n",
      "\u001b[1m75/75\u001b[0m \u001b[32m━━━━━━━━━━━━━━━━━━━━\u001b[0m\u001b[37m\u001b[0m \u001b[1m2s\u001b[0m 25ms/step - accuracy: 0.8824 - loss: 0.3528 - val_accuracy: 0.8250 - val_loss: 0.4224\n",
      "Epoch 3/10\n",
      "\u001b[1m75/75\u001b[0m \u001b[32m━━━━━━━━━━━━━━━━━━━━\u001b[0m\u001b[37m\u001b[0m \u001b[1m2s\u001b[0m 27ms/step - accuracy: 0.9628 - loss: 0.1354 - val_accuracy: 0.8233 - val_loss: 0.4455\n",
      "Epoch 4/10\n",
      "\u001b[1m75/75\u001b[0m \u001b[32m━━━━━━━━━━━━━━━━━━━━\u001b[0m\u001b[37m\u001b[0m \u001b[1m3s\u001b[0m 38ms/step - accuracy: 0.9804 - loss: 0.0833 - val_accuracy: 0.8150 - val_loss: 0.5889\n",
      "Epoch 5/10\n",
      "\u001b[1m75/75\u001b[0m \u001b[32m━━━━━━━━━━━━━━━━━━━━\u001b[0m\u001b[37m\u001b[0m \u001b[1m2s\u001b[0m 30ms/step - accuracy: 0.9910 - loss: 0.0404 - val_accuracy: 0.8083 - val_loss: 0.5690\n",
      "Epoch 6/10\n",
      "\u001b[1m75/75\u001b[0m \u001b[32m━━━━━━━━━━━━━━━━━━━━\u001b[0m\u001b[37m\u001b[0m \u001b[1m2s\u001b[0m 31ms/step - accuracy: 0.9899 - loss: 0.0339 - val_accuracy: 0.8100 - val_loss: 0.7096\n",
      "Epoch 7/10\n",
      "\u001b[1m75/75\u001b[0m \u001b[32m━━━━━━━━━━━━━━━━━━━━\u001b[0m\u001b[37m\u001b[0m \u001b[1m3s\u001b[0m 45ms/step - accuracy: 0.9964 - loss: 0.0192 - val_accuracy: 0.8083 - val_loss: 0.8507\n",
      "Epoch 8/10\n",
      "\u001b[1m75/75\u001b[0m \u001b[32m━━━━━━━━━━━━━━━━━━━━\u001b[0m\u001b[37m\u001b[0m \u001b[1m2s\u001b[0m 31ms/step - accuracy: 0.9991 - loss: 0.0093 - val_accuracy: 0.8017 - val_loss: 1.0537\n",
      "Epoch 9/10\n",
      "\u001b[1m75/75\u001b[0m \u001b[32m━━━━━━━━━━━━━━━━━━━━\u001b[0m\u001b[37m\u001b[0m \u001b[1m2s\u001b[0m 26ms/step - accuracy: 0.9991 - loss: 0.0069 - val_accuracy: 0.8050 - val_loss: 0.9501\n",
      "Epoch 10/10\n",
      "\u001b[1m75/75\u001b[0m \u001b[32m━━━━━━━━━━━━━━━━━━━━\u001b[0m\u001b[37m\u001b[0m \u001b[1m2s\u001b[0m 32ms/step - accuracy: 0.9997 - loss: 0.0053 - val_accuracy: 0.7900 - val_loss: 1.2953\n"
     ]
    },
    {
     "data": {
      "text/plain": [
       "<keras.src.callbacks.history.History at 0x28f0f0c8f20>"
      ]
     },
     "execution_count": 152,
     "metadata": {},
     "output_type": "execute_result"
    }
   ],
   "source": [
    "model_lstm.fit(x = text, y = label, validation_split = 0.2,\n",
    "               epochs=10, batch_size = 32)"
   ]
  },
  {
   "cell_type": "code",
   "execution_count": 154,
   "id": "38ca0f76-1f9e-438b-aea3-e6be07322be7",
   "metadata": {},
   "outputs": [
    {
     "data": {
      "text/html": [
       "<pre style=\"white-space:pre;overflow-x:auto;line-height:normal;font-family:Menlo,'DejaVu Sans Mono',consolas,'Courier New',monospace\"><span style=\"font-weight: bold\">Model: \"sequential_6\"</span>\n",
       "</pre>\n"
      ],
      "text/plain": [
       "\u001b[1mModel: \"sequential_6\"\u001b[0m\n"
      ]
     },
     "metadata": {},
     "output_type": "display_data"
    },
    {
     "data": {
      "text/html": [
       "<pre style=\"white-space:pre;overflow-x:auto;line-height:normal;font-family:Menlo,'DejaVu Sans Mono',consolas,'Courier New',monospace\">┏━━━━━━━━━━━━━━━━━━━━━━━━━━━━━━━━━┳━━━━━━━━━━━━━━━━━━━━━━━━┳━━━━━━━━━━━━━━━┓\n",
       "┃<span style=\"font-weight: bold\"> Layer (type)                    </span>┃<span style=\"font-weight: bold\"> Output Shape           </span>┃<span style=\"font-weight: bold\">       Param # </span>┃\n",
       "┡━━━━━━━━━━━━━━━━━━━━━━━━━━━━━━━━━╇━━━━━━━━━━━━━━━━━━━━━━━━╇━━━━━━━━━━━━━━━┩\n",
       "│ text_vectorization_4            │ (<span style=\"color: #00af00; text-decoration-color: #00af00\">32</span>, <span style=\"color: #00d7ff; text-decoration-color: #00d7ff\">None</span>)             │             <span style=\"color: #00af00; text-decoration-color: #00af00\">0</span> │\n",
       "│ (<span style=\"color: #0087ff; text-decoration-color: #0087ff\">TextVectorization</span>)             │                        │               │\n",
       "├─────────────────────────────────┼────────────────────────┼───────────────┤\n",
       "│ embedding_6 (<span style=\"color: #0087ff; text-decoration-color: #0087ff\">Embedding</span>)         │ (<span style=\"color: #00af00; text-decoration-color: #00af00\">32</span>, <span style=\"color: #00d7ff; text-decoration-color: #00d7ff\">None</span>, <span style=\"color: #00af00; text-decoration-color: #00af00\">64</span>)         │       <span style=\"color: #00af00; text-decoration-color: #00af00\">345,856</span> │\n",
       "├─────────────────────────────────┼────────────────────────┼───────────────┤\n",
       "│ lstm (<span style=\"color: #0087ff; text-decoration-color: #0087ff\">LSTM</span>)                     │ (<span style=\"color: #00af00; text-decoration-color: #00af00\">32</span>, <span style=\"color: #00af00; text-decoration-color: #00af00\">128</span>)              │        <span style=\"color: #00af00; text-decoration-color: #00af00\">98,816</span> │\n",
       "├─────────────────────────────────┼────────────────────────┼───────────────┤\n",
       "│ dense_6 (<span style=\"color: #0087ff; text-decoration-color: #0087ff\">Dense</span>)                 │ (<span style=\"color: #00af00; text-decoration-color: #00af00\">32</span>, <span style=\"color: #00af00; text-decoration-color: #00af00\">1</span>)                │           <span style=\"color: #00af00; text-decoration-color: #00af00\">129</span> │\n",
       "└─────────────────────────────────┴────────────────────────┴───────────────┘\n",
       "</pre>\n"
      ],
      "text/plain": [
       "┏━━━━━━━━━━━━━━━━━━━━━━━━━━━━━━━━━┳━━━━━━━━━━━━━━━━━━━━━━━━┳━━━━━━━━━━━━━━━┓\n",
       "┃\u001b[1m \u001b[0m\u001b[1mLayer (type)                   \u001b[0m\u001b[1m \u001b[0m┃\u001b[1m \u001b[0m\u001b[1mOutput Shape          \u001b[0m\u001b[1m \u001b[0m┃\u001b[1m \u001b[0m\u001b[1m      Param #\u001b[0m\u001b[1m \u001b[0m┃\n",
       "┡━━━━━━━━━━━━━━━━━━━━━━━━━━━━━━━━━╇━━━━━━━━━━━━━━━━━━━━━━━━╇━━━━━━━━━━━━━━━┩\n",
       "│ text_vectorization_4            │ (\u001b[38;5;34m32\u001b[0m, \u001b[38;5;45mNone\u001b[0m)             │             \u001b[38;5;34m0\u001b[0m │\n",
       "│ (\u001b[38;5;33mTextVectorization\u001b[0m)             │                        │               │\n",
       "├─────────────────────────────────┼────────────────────────┼───────────────┤\n",
       "│ embedding_6 (\u001b[38;5;33mEmbedding\u001b[0m)         │ (\u001b[38;5;34m32\u001b[0m, \u001b[38;5;45mNone\u001b[0m, \u001b[38;5;34m64\u001b[0m)         │       \u001b[38;5;34m345,856\u001b[0m │\n",
       "├─────────────────────────────────┼────────────────────────┼───────────────┤\n",
       "│ lstm (\u001b[38;5;33mLSTM\u001b[0m)                     │ (\u001b[38;5;34m32\u001b[0m, \u001b[38;5;34m128\u001b[0m)              │        \u001b[38;5;34m98,816\u001b[0m │\n",
       "├─────────────────────────────────┼────────────────────────┼───────────────┤\n",
       "│ dense_6 (\u001b[38;5;33mDense\u001b[0m)                 │ (\u001b[38;5;34m32\u001b[0m, \u001b[38;5;34m1\u001b[0m)                │           \u001b[38;5;34m129\u001b[0m │\n",
       "└─────────────────────────────────┴────────────────────────┴───────────────┘\n"
      ]
     },
     "metadata": {},
     "output_type": "display_data"
    },
    {
     "data": {
      "text/html": [
       "<pre style=\"white-space:pre;overflow-x:auto;line-height:normal;font-family:Menlo,'DejaVu Sans Mono',consolas,'Courier New',monospace\"><span style=\"font-weight: bold\"> Total params: </span><span style=\"color: #00af00; text-decoration-color: #00af00\">1,334,405</span> (5.09 MB)\n",
       "</pre>\n"
      ],
      "text/plain": [
       "\u001b[1m Total params: \u001b[0m\u001b[38;5;34m1,334,405\u001b[0m (5.09 MB)\n"
      ]
     },
     "metadata": {},
     "output_type": "display_data"
    },
    {
     "data": {
      "text/html": [
       "<pre style=\"white-space:pre;overflow-x:auto;line-height:normal;font-family:Menlo,'DejaVu Sans Mono',consolas,'Courier New',monospace\"><span style=\"font-weight: bold\"> Trainable params: </span><span style=\"color: #00af00; text-decoration-color: #00af00\">444,801</span> (1.70 MB)\n",
       "</pre>\n"
      ],
      "text/plain": [
       "\u001b[1m Trainable params: \u001b[0m\u001b[38;5;34m444,801\u001b[0m (1.70 MB)\n"
      ]
     },
     "metadata": {},
     "output_type": "display_data"
    },
    {
     "data": {
      "text/html": [
       "<pre style=\"white-space:pre;overflow-x:auto;line-height:normal;font-family:Menlo,'DejaVu Sans Mono',consolas,'Courier New',monospace\"><span style=\"font-weight: bold\"> Non-trainable params: </span><span style=\"color: #00af00; text-decoration-color: #00af00\">0</span> (0.00 B)\n",
       "</pre>\n"
      ],
      "text/plain": [
       "\u001b[1m Non-trainable params: \u001b[0m\u001b[38;5;34m0\u001b[0m (0.00 B)\n"
      ]
     },
     "metadata": {},
     "output_type": "display_data"
    },
    {
     "data": {
      "text/html": [
       "<pre style=\"white-space:pre;overflow-x:auto;line-height:normal;font-family:Menlo,'DejaVu Sans Mono',consolas,'Courier New',monospace\"><span style=\"font-weight: bold\"> Optimizer params: </span><span style=\"color: #00af00; text-decoration-color: #00af00\">889,604</span> (3.39 MB)\n",
       "</pre>\n"
      ],
      "text/plain": [
       "\u001b[1m Optimizer params: \u001b[0m\u001b[38;5;34m889,604\u001b[0m (3.39 MB)\n"
      ]
     },
     "metadata": {},
     "output_type": "display_data"
    }
   ],
   "source": [
    "model_lstm.summary()"
   ]
  },
  {
   "cell_type": "code",
   "execution_count": 158,
   "id": "693a6264-99b4-4a4b-b7ce-b1e0247f1e55",
   "metadata": {},
   "outputs": [
    {
     "name": "stdout",
     "output_type": "stream",
     "text": [
      "\u001b[1m1/1\u001b[0m \u001b[32m━━━━━━━━━━━━━━━━━━━━\u001b[0m\u001b[37m\u001b[0m \u001b[1m1s\u001b[0m 608ms/step\n"
     ]
    },
    {
     "data": {
      "text/plain": [
       "array([[0.00658366],\n",
       "       [0.99999934]], dtype=float32)"
      ]
     },
     "execution_count": 158,
     "metadata": {},
     "output_type": "execute_result"
    }
   ],
   "source": [
    "model_lstm.predict(test_text_tensor)"
   ]
  },
  {
   "cell_type": "code",
   "execution_count": 160,
   "id": "c92100a4-1e7c-44cd-8a97-6307ab27f5e1",
   "metadata": {},
   "outputs": [],
   "source": [
    "#Gated Recurrent Unit Model (GRU)\n",
    "model_gru = keras.Sequential()\n",
    "\n",
    "model_gru.add(vectorize_layer)\n",
    "\n",
    "model_gru.add(keras.layers.Embedding(\n",
    "    input_dim = len(vectorize_layer.get_vocabulary()),\n",
    "    output_dim = 64,\n",
    "    mask_zero = True\n",
    "))\n",
    "\n",
    "model_gru.add(keras.layers.GRU(128))\n",
    "\n",
    "model_gru.add(keras.layers.Dense(1, activation = 'sigmoid'))"
   ]
  },
  {
   "cell_type": "code",
   "execution_count": 162,
   "id": "c1f8805c-b8e2-4ef9-84cf-60fb81664210",
   "metadata": {},
   "outputs": [],
   "source": [
    "model_gru.compile(loss = keras.losses.BinaryCrossentropy(),\n",
    "                  optimizer='adam',\n",
    "                  metrics=['accuracy'])"
   ]
  },
  {
   "cell_type": "code",
   "execution_count": 164,
   "id": "ca7e7309-a734-4903-9223-cbad20f3c852",
   "metadata": {},
   "outputs": [
    {
     "name": "stdout",
     "output_type": "stream",
     "text": [
      "Epoch 1/10\n",
      "\u001b[1m75/75\u001b[0m \u001b[32m━━━━━━━━━━━━━━━━━━━━\u001b[0m\u001b[37m\u001b[0m \u001b[1m10s\u001b[0m 42ms/step - accuracy: 0.5652 - loss: 0.6795 - val_accuracy: 0.7467 - val_loss: 0.5500\n",
      "Epoch 2/10\n",
      "\u001b[1m75/75\u001b[0m \u001b[32m━━━━━━━━━━━━━━━━━━━━\u001b[0m\u001b[37m\u001b[0m \u001b[1m2s\u001b[0m 31ms/step - accuracy: 0.8803 - loss: 0.3620 - val_accuracy: 0.8083 - val_loss: 0.4433\n",
      "Epoch 3/10\n",
      "\u001b[1m75/75\u001b[0m \u001b[32m━━━━━━━━━━━━━━━━━━━━\u001b[0m\u001b[37m\u001b[0m \u001b[1m3s\u001b[0m 38ms/step - accuracy: 0.9621 - loss: 0.1351 - val_accuracy: 0.8117 - val_loss: 0.4783\n",
      "Epoch 4/10\n",
      "\u001b[1m75/75\u001b[0m \u001b[32m━━━━━━━━━━━━━━━━━━━━\u001b[0m\u001b[37m\u001b[0m \u001b[1m3s\u001b[0m 45ms/step - accuracy: 0.9812 - loss: 0.0714 - val_accuracy: 0.8067 - val_loss: 0.5434\n",
      "Epoch 5/10\n",
      "\u001b[1m75/75\u001b[0m \u001b[32m━━━━━━━━━━━━━━━━━━━━\u001b[0m\u001b[37m\u001b[0m \u001b[1m3s\u001b[0m 43ms/step - accuracy: 0.9915 - loss: 0.0380 - val_accuracy: 0.7933 - val_loss: 0.8507\n",
      "Epoch 6/10\n",
      "\u001b[1m75/75\u001b[0m \u001b[32m━━━━━━━━━━━━━━━━━━━━\u001b[0m\u001b[37m\u001b[0m \u001b[1m4s\u001b[0m 30ms/step - accuracy: 0.9979 - loss: 0.0139 - val_accuracy: 0.7950 - val_loss: 0.9009\n",
      "Epoch 7/10\n",
      "\u001b[1m75/75\u001b[0m \u001b[32m━━━━━━━━━━━━━━━━━━━━\u001b[0m\u001b[37m\u001b[0m \u001b[1m2s\u001b[0m 31ms/step - accuracy: 0.9962 - loss: 0.0147 - val_accuracy: 0.7933 - val_loss: 0.9272\n",
      "Epoch 8/10\n",
      "\u001b[1m75/75\u001b[0m \u001b[32m━━━━━━━━━━━━━━━━━━━━\u001b[0m\u001b[37m\u001b[0m \u001b[1m3s\u001b[0m 41ms/step - accuracy: 0.9984 - loss: 0.0095 - val_accuracy: 0.7950 - val_loss: 0.9480\n",
      "Epoch 9/10\n",
      "\u001b[1m75/75\u001b[0m \u001b[32m━━━━━━━━━━━━━━━━━━━━\u001b[0m\u001b[37m\u001b[0m \u001b[1m2s\u001b[0m 30ms/step - accuracy: 0.9989 - loss: 0.0065 - val_accuracy: 0.7800 - val_loss: 0.9494\n",
      "Epoch 10/10\n",
      "\u001b[1m75/75\u001b[0m \u001b[32m━━━━━━━━━━━━━━━━━━━━\u001b[0m\u001b[37m\u001b[0m \u001b[1m2s\u001b[0m 24ms/step - accuracy: 0.9856 - loss: 0.0368 - val_accuracy: 0.7700 - val_loss: 0.9897\n"
     ]
    },
    {
     "data": {
      "text/plain": [
       "<keras.src.callbacks.history.History at 0x28f119e7d40>"
      ]
     },
     "execution_count": 164,
     "metadata": {},
     "output_type": "execute_result"
    }
   ],
   "source": [
    "model_gru.fit(x = text, y = label, validation_split = 0.2,\n",
    "              epochs=10, batch_size = 32)"
   ]
  },
  {
   "cell_type": "code",
   "execution_count": 166,
   "id": "cd158721-b8b5-4f93-8fd5-0c262ca39f1a",
   "metadata": {},
   "outputs": [
    {
     "data": {
      "text/html": [
       "<pre style=\"white-space:pre;overflow-x:auto;line-height:normal;font-family:Menlo,'DejaVu Sans Mono',consolas,'Courier New',monospace\"><span style=\"font-weight: bold\">Model: \"sequential_7\"</span>\n",
       "</pre>\n"
      ],
      "text/plain": [
       "\u001b[1mModel: \"sequential_7\"\u001b[0m\n"
      ]
     },
     "metadata": {},
     "output_type": "display_data"
    },
    {
     "data": {
      "text/html": [
       "<pre style=\"white-space:pre;overflow-x:auto;line-height:normal;font-family:Menlo,'DejaVu Sans Mono',consolas,'Courier New',monospace\">┏━━━━━━━━━━━━━━━━━━━━━━━━━━━━━━━━━┳━━━━━━━━━━━━━━━━━━━━━━━━┳━━━━━━━━━━━━━━━┓\n",
       "┃<span style=\"font-weight: bold\"> Layer (type)                    </span>┃<span style=\"font-weight: bold\"> Output Shape           </span>┃<span style=\"font-weight: bold\">       Param # </span>┃\n",
       "┡━━━━━━━━━━━━━━━━━━━━━━━━━━━━━━━━━╇━━━━━━━━━━━━━━━━━━━━━━━━╇━━━━━━━━━━━━━━━┩\n",
       "│ text_vectorization_4            │ (<span style=\"color: #00af00; text-decoration-color: #00af00\">32</span>, <span style=\"color: #00d7ff; text-decoration-color: #00d7ff\">None</span>)             │             <span style=\"color: #00af00; text-decoration-color: #00af00\">0</span> │\n",
       "│ (<span style=\"color: #0087ff; text-decoration-color: #0087ff\">TextVectorization</span>)             │                        │               │\n",
       "├─────────────────────────────────┼────────────────────────┼───────────────┤\n",
       "│ embedding_7 (<span style=\"color: #0087ff; text-decoration-color: #0087ff\">Embedding</span>)         │ (<span style=\"color: #00af00; text-decoration-color: #00af00\">32</span>, <span style=\"color: #00d7ff; text-decoration-color: #00d7ff\">None</span>, <span style=\"color: #00af00; text-decoration-color: #00af00\">64</span>)         │       <span style=\"color: #00af00; text-decoration-color: #00af00\">345,856</span> │\n",
       "├─────────────────────────────────┼────────────────────────┼───────────────┤\n",
       "│ gru (<span style=\"color: #0087ff; text-decoration-color: #0087ff\">GRU</span>)                       │ (<span style=\"color: #00af00; text-decoration-color: #00af00\">32</span>, <span style=\"color: #00af00; text-decoration-color: #00af00\">128</span>)              │        <span style=\"color: #00af00; text-decoration-color: #00af00\">74,496</span> │\n",
       "├─────────────────────────────────┼────────────────────────┼───────────────┤\n",
       "│ dense_7 (<span style=\"color: #0087ff; text-decoration-color: #0087ff\">Dense</span>)                 │ (<span style=\"color: #00af00; text-decoration-color: #00af00\">32</span>, <span style=\"color: #00af00; text-decoration-color: #00af00\">1</span>)                │           <span style=\"color: #00af00; text-decoration-color: #00af00\">129</span> │\n",
       "└─────────────────────────────────┴────────────────────────┴───────────────┘\n",
       "</pre>\n"
      ],
      "text/plain": [
       "┏━━━━━━━━━━━━━━━━━━━━━━━━━━━━━━━━━┳━━━━━━━━━━━━━━━━━━━━━━━━┳━━━━━━━━━━━━━━━┓\n",
       "┃\u001b[1m \u001b[0m\u001b[1mLayer (type)                   \u001b[0m\u001b[1m \u001b[0m┃\u001b[1m \u001b[0m\u001b[1mOutput Shape          \u001b[0m\u001b[1m \u001b[0m┃\u001b[1m \u001b[0m\u001b[1m      Param #\u001b[0m\u001b[1m \u001b[0m┃\n",
       "┡━━━━━━━━━━━━━━━━━━━━━━━━━━━━━━━━━╇━━━━━━━━━━━━━━━━━━━━━━━━╇━━━━━━━━━━━━━━━┩\n",
       "│ text_vectorization_4            │ (\u001b[38;5;34m32\u001b[0m, \u001b[38;5;45mNone\u001b[0m)             │             \u001b[38;5;34m0\u001b[0m │\n",
       "│ (\u001b[38;5;33mTextVectorization\u001b[0m)             │                        │               │\n",
       "├─────────────────────────────────┼────────────────────────┼───────────────┤\n",
       "│ embedding_7 (\u001b[38;5;33mEmbedding\u001b[0m)         │ (\u001b[38;5;34m32\u001b[0m, \u001b[38;5;45mNone\u001b[0m, \u001b[38;5;34m64\u001b[0m)         │       \u001b[38;5;34m345,856\u001b[0m │\n",
       "├─────────────────────────────────┼────────────────────────┼───────────────┤\n",
       "│ gru (\u001b[38;5;33mGRU\u001b[0m)                       │ (\u001b[38;5;34m32\u001b[0m, \u001b[38;5;34m128\u001b[0m)              │        \u001b[38;5;34m74,496\u001b[0m │\n",
       "├─────────────────────────────────┼────────────────────────┼───────────────┤\n",
       "│ dense_7 (\u001b[38;5;33mDense\u001b[0m)                 │ (\u001b[38;5;34m32\u001b[0m, \u001b[38;5;34m1\u001b[0m)                │           \u001b[38;5;34m129\u001b[0m │\n",
       "└─────────────────────────────────┴────────────────────────┴───────────────┘\n"
      ]
     },
     "metadata": {},
     "output_type": "display_data"
    },
    {
     "data": {
      "text/html": [
       "<pre style=\"white-space:pre;overflow-x:auto;line-height:normal;font-family:Menlo,'DejaVu Sans Mono',consolas,'Courier New',monospace\"><span style=\"font-weight: bold\"> Total params: </span><span style=\"color: #00af00; text-decoration-color: #00af00\">1,261,445</span> (4.81 MB)\n",
       "</pre>\n"
      ],
      "text/plain": [
       "\u001b[1m Total params: \u001b[0m\u001b[38;5;34m1,261,445\u001b[0m (4.81 MB)\n"
      ]
     },
     "metadata": {},
     "output_type": "display_data"
    },
    {
     "data": {
      "text/html": [
       "<pre style=\"white-space:pre;overflow-x:auto;line-height:normal;font-family:Menlo,'DejaVu Sans Mono',consolas,'Courier New',monospace\"><span style=\"font-weight: bold\"> Trainable params: </span><span style=\"color: #00af00; text-decoration-color: #00af00\">420,481</span> (1.60 MB)\n",
       "</pre>\n"
      ],
      "text/plain": [
       "\u001b[1m Trainable params: \u001b[0m\u001b[38;5;34m420,481\u001b[0m (1.60 MB)\n"
      ]
     },
     "metadata": {},
     "output_type": "display_data"
    },
    {
     "data": {
      "text/html": [
       "<pre style=\"white-space:pre;overflow-x:auto;line-height:normal;font-family:Menlo,'DejaVu Sans Mono',consolas,'Courier New',monospace\"><span style=\"font-weight: bold\"> Non-trainable params: </span><span style=\"color: #00af00; text-decoration-color: #00af00\">0</span> (0.00 B)\n",
       "</pre>\n"
      ],
      "text/plain": [
       "\u001b[1m Non-trainable params: \u001b[0m\u001b[38;5;34m0\u001b[0m (0.00 B)\n"
      ]
     },
     "metadata": {},
     "output_type": "display_data"
    },
    {
     "data": {
      "text/html": [
       "<pre style=\"white-space:pre;overflow-x:auto;line-height:normal;font-family:Menlo,'DejaVu Sans Mono',consolas,'Courier New',monospace\"><span style=\"font-weight: bold\"> Optimizer params: </span><span style=\"color: #00af00; text-decoration-color: #00af00\">840,964</span> (3.21 MB)\n",
       "</pre>\n"
      ],
      "text/plain": [
       "\u001b[1m Optimizer params: \u001b[0m\u001b[38;5;34m840,964\u001b[0m (3.21 MB)\n"
      ]
     },
     "metadata": {},
     "output_type": "display_data"
    }
   ],
   "source": [
    "model_gru.summary()"
   ]
  },
  {
   "cell_type": "code",
   "execution_count": 168,
   "id": "7f14fc78-0de3-4cc7-a07a-61a0bbddf527",
   "metadata": {},
   "outputs": [
    {
     "name": "stdout",
     "output_type": "stream",
     "text": [
      "\u001b[1m1/1\u001b[0m \u001b[32m━━━━━━━━━━━━━━━━━━━━\u001b[0m\u001b[37m\u001b[0m \u001b[1m1s\u001b[0m 694ms/step\n"
     ]
    },
    {
     "data": {
      "text/plain": [
       "array([[0.00509745],\n",
       "       [0.99997145]], dtype=float32)"
      ]
     },
     "execution_count": 168,
     "metadata": {},
     "output_type": "execute_result"
    }
   ],
   "source": [
    "model_gru.predict(test_text_tensor)"
   ]
  },
  {
   "cell_type": "code",
   "execution_count": 170,
   "id": "353895f6-3619-4f3f-ba74-efbaa4aa27ad",
   "metadata": {},
   "outputs": [],
   "source": [
    "#Bidirectional RNN model\n",
    "model_bilstm = keras.Sequential()\n",
    "\n",
    "model_bilstm.add(vectorize_layer)\n",
    "\n",
    "model_bilstm.add(keras.layers.Embedding(\n",
    "    input_dim = len(vectorize_layer.get_vocabulary()),\n",
    "    output_dim = 64,\n",
    "    mask_zero = True\n",
    "))\n",
    "\n",
    "model_bilstm.add(keras.layers.Bidirectional(keras.layers.LSTM(128)))\n",
    "\n",
    "model_bilstm.add(keras.layers.Dense(1, activation = 'sigmoid'))"
   ]
  },
  {
   "cell_type": "code",
   "execution_count": 172,
   "id": "0ae50d6d-9fe3-4d5c-a0b9-27c60d18573f",
   "metadata": {},
   "outputs": [],
   "source": [
    "model_bilstm.compile(loss = keras.losses.BinaryCrossentropy(),\n",
    "                     optimizer='adam',\n",
    "                     metrics=['accuracy'])"
   ]
  },
  {
   "cell_type": "code",
   "execution_count": 174,
   "id": "96c75e8c-b4da-4410-b65a-ef22799b88b5",
   "metadata": {},
   "outputs": [
    {
     "name": "stdout",
     "output_type": "stream",
     "text": [
      "Epoch 1/10\n",
      "\u001b[1m75/75\u001b[0m \u001b[32m━━━━━━━━━━━━━━━━━━━━\u001b[0m\u001b[37m\u001b[0m \u001b[1m13s\u001b[0m 43ms/step - accuracy: 0.6031 - loss: 0.6676 - val_accuracy: 0.7517 - val_loss: 0.5347\n",
      "Epoch 2/10\n",
      "\u001b[1m75/75\u001b[0m \u001b[32m━━━━━━━━━━━━━━━━━━━━\u001b[0m\u001b[37m\u001b[0m \u001b[1m2s\u001b[0m 29ms/step - accuracy: 0.9002 - loss: 0.3353 - val_accuracy: 0.7883 - val_loss: 0.4261\n",
      "Epoch 3/10\n",
      "\u001b[1m75/75\u001b[0m \u001b[32m━━━━━━━━━━━━━━━━━━━━\u001b[0m\u001b[37m\u001b[0m \u001b[1m2s\u001b[0m 27ms/step - accuracy: 0.9573 - loss: 0.1430 - val_accuracy: 0.8367 - val_loss: 0.4488\n",
      "Epoch 4/10\n",
      "\u001b[1m75/75\u001b[0m \u001b[32m━━━━━━━━━━━━━━━━━━━━\u001b[0m\u001b[37m\u001b[0m \u001b[1m2s\u001b[0m 28ms/step - accuracy: 0.9864 - loss: 0.0810 - val_accuracy: 0.8317 - val_loss: 0.6994\n",
      "Epoch 5/10\n",
      "\u001b[1m75/75\u001b[0m \u001b[32m━━━━━━━━━━━━━━━━━━━━\u001b[0m\u001b[37m\u001b[0m \u001b[1m2s\u001b[0m 27ms/step - accuracy: 0.9772 - loss: 0.0713 - val_accuracy: 0.7983 - val_loss: 0.6961\n",
      "Epoch 6/10\n",
      "\u001b[1m75/75\u001b[0m \u001b[32m━━━━━━━━━━━━━━━━━━━━\u001b[0m\u001b[37m\u001b[0m \u001b[1m2s\u001b[0m 27ms/step - accuracy: 0.9922 - loss: 0.0450 - val_accuracy: 0.8283 - val_loss: 0.6226\n",
      "Epoch 7/10\n",
      "\u001b[1m75/75\u001b[0m \u001b[32m━━━━━━━━━━━━━━━━━━━━\u001b[0m\u001b[37m\u001b[0m \u001b[1m2s\u001b[0m 28ms/step - accuracy: 0.9927 - loss: 0.0255 - val_accuracy: 0.8083 - val_loss: 0.9139\n",
      "Epoch 8/10\n",
      "\u001b[1m75/75\u001b[0m \u001b[32m━━━━━━━━━━━━━━━━━━━━\u001b[0m\u001b[37m\u001b[0m \u001b[1m3s\u001b[0m 35ms/step - accuracy: 0.9989 - loss: 0.0096 - val_accuracy: 0.8017 - val_loss: 1.0094\n",
      "Epoch 9/10\n",
      "\u001b[1m75/75\u001b[0m \u001b[32m━━━━━━━━━━━━━━━━━━━━\u001b[0m\u001b[37m\u001b[0m \u001b[1m3s\u001b[0m 40ms/step - accuracy: 1.0000 - loss: 0.0048 - val_accuracy: 0.8117 - val_loss: 1.1231\n",
      "Epoch 10/10\n",
      "\u001b[1m75/75\u001b[0m \u001b[32m━━━━━━━━━━━━━━━━━━━━\u001b[0m\u001b[37m\u001b[0m \u001b[1m3s\u001b[0m 36ms/step - accuracy: 0.9997 - loss: 0.0046 - val_accuracy: 0.7817 - val_loss: 0.6509\n"
     ]
    },
    {
     "data": {
      "text/plain": [
       "<keras.src.callbacks.history.History at 0x28f1e1ee4e0>"
      ]
     },
     "execution_count": 174,
     "metadata": {},
     "output_type": "execute_result"
    }
   ],
   "source": [
    "model_bilstm.fit(x = text, y = label, validation_split = 0.2,\n",
    "                 epochs = 10, batch_size = 32)"
   ]
  },
  {
   "cell_type": "code",
   "execution_count": 176,
   "id": "ef87338c-65c3-4332-bb04-19edb72130a4",
   "metadata": {},
   "outputs": [
    {
     "data": {
      "text/html": [
       "<pre style=\"white-space:pre;overflow-x:auto;line-height:normal;font-family:Menlo,'DejaVu Sans Mono',consolas,'Courier New',monospace\"><span style=\"font-weight: bold\">Model: \"sequential_8\"</span>\n",
       "</pre>\n"
      ],
      "text/plain": [
       "\u001b[1mModel: \"sequential_8\"\u001b[0m\n"
      ]
     },
     "metadata": {},
     "output_type": "display_data"
    },
    {
     "data": {
      "text/html": [
       "<pre style=\"white-space:pre;overflow-x:auto;line-height:normal;font-family:Menlo,'DejaVu Sans Mono',consolas,'Courier New',monospace\">┏━━━━━━━━━━━━━━━━━━━━━━━━━━━━━━━━━┳━━━━━━━━━━━━━━━━━━━━━━━━┳━━━━━━━━━━━━━━━┓\n",
       "┃<span style=\"font-weight: bold\"> Layer (type)                    </span>┃<span style=\"font-weight: bold\"> Output Shape           </span>┃<span style=\"font-weight: bold\">       Param # </span>┃\n",
       "┡━━━━━━━━━━━━━━━━━━━━━━━━━━━━━━━━━╇━━━━━━━━━━━━━━━━━━━━━━━━╇━━━━━━━━━━━━━━━┩\n",
       "│ text_vectorization_4            │ (<span style=\"color: #00af00; text-decoration-color: #00af00\">32</span>, <span style=\"color: #00d7ff; text-decoration-color: #00d7ff\">None</span>)             │             <span style=\"color: #00af00; text-decoration-color: #00af00\">0</span> │\n",
       "│ (<span style=\"color: #0087ff; text-decoration-color: #0087ff\">TextVectorization</span>)             │                        │               │\n",
       "├─────────────────────────────────┼────────────────────────┼───────────────┤\n",
       "│ embedding_8 (<span style=\"color: #0087ff; text-decoration-color: #0087ff\">Embedding</span>)         │ (<span style=\"color: #00af00; text-decoration-color: #00af00\">32</span>, <span style=\"color: #00d7ff; text-decoration-color: #00d7ff\">None</span>, <span style=\"color: #00af00; text-decoration-color: #00af00\">64</span>)         │       <span style=\"color: #00af00; text-decoration-color: #00af00\">345,856</span> │\n",
       "├─────────────────────────────────┼────────────────────────┼───────────────┤\n",
       "│ bidirectional (<span style=\"color: #0087ff; text-decoration-color: #0087ff\">Bidirectional</span>)   │ (<span style=\"color: #00af00; text-decoration-color: #00af00\">32</span>, <span style=\"color: #00af00; text-decoration-color: #00af00\">256</span>)              │       <span style=\"color: #00af00; text-decoration-color: #00af00\">197,632</span> │\n",
       "├─────────────────────────────────┼────────────────────────┼───────────────┤\n",
       "│ dense_8 (<span style=\"color: #0087ff; text-decoration-color: #0087ff\">Dense</span>)                 │ (<span style=\"color: #00af00; text-decoration-color: #00af00\">32</span>, <span style=\"color: #00af00; text-decoration-color: #00af00\">1</span>)                │           <span style=\"color: #00af00; text-decoration-color: #00af00\">257</span> │\n",
       "└─────────────────────────────────┴────────────────────────┴───────────────┘\n",
       "</pre>\n"
      ],
      "text/plain": [
       "┏━━━━━━━━━━━━━━━━━━━━━━━━━━━━━━━━━┳━━━━━━━━━━━━━━━━━━━━━━━━┳━━━━━━━━━━━━━━━┓\n",
       "┃\u001b[1m \u001b[0m\u001b[1mLayer (type)                   \u001b[0m\u001b[1m \u001b[0m┃\u001b[1m \u001b[0m\u001b[1mOutput Shape          \u001b[0m\u001b[1m \u001b[0m┃\u001b[1m \u001b[0m\u001b[1m      Param #\u001b[0m\u001b[1m \u001b[0m┃\n",
       "┡━━━━━━━━━━━━━━━━━━━━━━━━━━━━━━━━━╇━━━━━━━━━━━━━━━━━━━━━━━━╇━━━━━━━━━━━━━━━┩\n",
       "│ text_vectorization_4            │ (\u001b[38;5;34m32\u001b[0m, \u001b[38;5;45mNone\u001b[0m)             │             \u001b[38;5;34m0\u001b[0m │\n",
       "│ (\u001b[38;5;33mTextVectorization\u001b[0m)             │                        │               │\n",
       "├─────────────────────────────────┼────────────────────────┼───────────────┤\n",
       "│ embedding_8 (\u001b[38;5;33mEmbedding\u001b[0m)         │ (\u001b[38;5;34m32\u001b[0m, \u001b[38;5;45mNone\u001b[0m, \u001b[38;5;34m64\u001b[0m)         │       \u001b[38;5;34m345,856\u001b[0m │\n",
       "├─────────────────────────────────┼────────────────────────┼───────────────┤\n",
       "│ bidirectional (\u001b[38;5;33mBidirectional\u001b[0m)   │ (\u001b[38;5;34m32\u001b[0m, \u001b[38;5;34m256\u001b[0m)              │       \u001b[38;5;34m197,632\u001b[0m │\n",
       "├─────────────────────────────────┼────────────────────────┼───────────────┤\n",
       "│ dense_8 (\u001b[38;5;33mDense\u001b[0m)                 │ (\u001b[38;5;34m32\u001b[0m, \u001b[38;5;34m1\u001b[0m)                │           \u001b[38;5;34m257\u001b[0m │\n",
       "└─────────────────────────────────┴────────────────────────┴───────────────┘\n"
      ]
     },
     "metadata": {},
     "output_type": "display_data"
    },
    {
     "data": {
      "text/html": [
       "<pre style=\"white-space:pre;overflow-x:auto;line-height:normal;font-family:Menlo,'DejaVu Sans Mono',consolas,'Courier New',monospace\"><span style=\"font-weight: bold\"> Total params: </span><span style=\"color: #00af00; text-decoration-color: #00af00\">1,631,237</span> (6.22 MB)\n",
       "</pre>\n"
      ],
      "text/plain": [
       "\u001b[1m Total params: \u001b[0m\u001b[38;5;34m1,631,237\u001b[0m (6.22 MB)\n"
      ]
     },
     "metadata": {},
     "output_type": "display_data"
    },
    {
     "data": {
      "text/html": [
       "<pre style=\"white-space:pre;overflow-x:auto;line-height:normal;font-family:Menlo,'DejaVu Sans Mono',consolas,'Courier New',monospace\"><span style=\"font-weight: bold\"> Trainable params: </span><span style=\"color: #00af00; text-decoration-color: #00af00\">543,745</span> (2.07 MB)\n",
       "</pre>\n"
      ],
      "text/plain": [
       "\u001b[1m Trainable params: \u001b[0m\u001b[38;5;34m543,745\u001b[0m (2.07 MB)\n"
      ]
     },
     "metadata": {},
     "output_type": "display_data"
    },
    {
     "data": {
      "text/html": [
       "<pre style=\"white-space:pre;overflow-x:auto;line-height:normal;font-family:Menlo,'DejaVu Sans Mono',consolas,'Courier New',monospace\"><span style=\"font-weight: bold\"> Non-trainable params: </span><span style=\"color: #00af00; text-decoration-color: #00af00\">0</span> (0.00 B)\n",
       "</pre>\n"
      ],
      "text/plain": [
       "\u001b[1m Non-trainable params: \u001b[0m\u001b[38;5;34m0\u001b[0m (0.00 B)\n"
      ]
     },
     "metadata": {},
     "output_type": "display_data"
    },
    {
     "data": {
      "text/html": [
       "<pre style=\"white-space:pre;overflow-x:auto;line-height:normal;font-family:Menlo,'DejaVu Sans Mono',consolas,'Courier New',monospace\"><span style=\"font-weight: bold\"> Optimizer params: </span><span style=\"color: #00af00; text-decoration-color: #00af00\">1,087,492</span> (4.15 MB)\n",
       "</pre>\n"
      ],
      "text/plain": [
       "\u001b[1m Optimizer params: \u001b[0m\u001b[38;5;34m1,087,492\u001b[0m (4.15 MB)\n"
      ]
     },
     "metadata": {},
     "output_type": "display_data"
    }
   ],
   "source": [
    "model_bilstm.summary()"
   ]
  },
  {
   "cell_type": "code",
   "execution_count": 178,
   "id": "908e699b-db8e-4719-a1f2-8b676b1d6d88",
   "metadata": {},
   "outputs": [
    {
     "name": "stdout",
     "output_type": "stream",
     "text": [
      "\u001b[1m1/1\u001b[0m \u001b[32m━━━━━━━━━━━━━━━━━━━━\u001b[0m\u001b[37m\u001b[0m \u001b[1m1s\u001b[0m 845ms/step\n"
     ]
    },
    {
     "data": {
      "text/plain": [
       "array([[0.03857815],\n",
       "       [0.9999464 ]], dtype=float32)"
      ]
     },
     "execution_count": 178,
     "metadata": {},
     "output_type": "execute_result"
    }
   ],
   "source": [
    "model_bilstm.predict(test_text_tensor)"
   ]
  },
  {
   "cell_type": "code",
   "execution_count": null,
   "id": "637b1cf6-c3de-4694-bfa3-54613d1122f2",
   "metadata": {},
   "outputs": [],
   "source": []
  }
 ],
 "metadata": {
  "kernelspec": {
   "display_name": "Python 3 (ipykernel)",
   "language": "python",
   "name": "python3"
  },
  "language_info": {
   "codemirror_mode": {
    "name": "ipython",
    "version": 3
   },
   "file_extension": ".py",
   "mimetype": "text/x-python",
   "name": "python",
   "nbconvert_exporter": "python",
   "pygments_lexer": "ipython3",
   "version": "3.12.4"
  }
 },
 "nbformat": 4,
 "nbformat_minor": 5
}
